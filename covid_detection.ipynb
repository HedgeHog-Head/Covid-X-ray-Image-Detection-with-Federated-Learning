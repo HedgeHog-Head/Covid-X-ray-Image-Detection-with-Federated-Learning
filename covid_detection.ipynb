{
 "cells": [
  {
   "cell_type": "code",
   "execution_count": 1,
   "metadata": {},
   "outputs": [
    {
     "data": {
      "text/plain": [
       "'NVIDIA GeForce RTX 2060 SUPER'"
      ]
     },
     "execution_count": 1,
     "metadata": {},
     "output_type": "execute_result"
    }
   ],
   "source": [
    "import torch\n",
    "device = torch.device(\"cuda:0\" if torch.cuda.is_available() else \"cpu\")\n",
    "torch.cuda.get_device_name(0)"
   ]
  },
  {
   "cell_type": "code",
   "execution_count": 2,
   "metadata": {},
   "outputs": [
    {
     "name": "stdout",
     "output_type": "stream",
     "text": [
      "1.11.0\n"
     ]
    }
   ],
   "source": [
    "import torch\n",
    "print(torch.__version__)"
   ]
  },
  {
   "cell_type": "code",
   "execution_count": 4,
   "metadata": {},
   "outputs": [],
   "source": [
    "import numpy as np\n",
    "import pandas as pd\n",
    "import os\n",
    "import matplotlib.pyplot as plt\n",
    "from torchvision import models as model"
   ]
  },
  {
   "cell_type": "markdown",
   "metadata": {},
   "source": [
    "### Step1: data preparation"
   ]
  },
  {
   "cell_type": "code",
   "execution_count": 5,
   "metadata": {},
   "outputs": [],
   "source": [
    "# for reproducibility set seed\n",
    "torch.manual_seed(0)\n",
    "np.random.seed(0)\n",
    "# load training data information\n",
    "train_df = pd.read_csv('COVIDxCXR-2/train.txt',sep=\" \",header=None)\n",
    "\n",
    "# add column name\n",
    "train_df.columns = ['patient_id','filename','class','data_source']\n",
    "\n",
    "# only filename and class are needed for image classification\n",
    "# drop unnecessary columns\n",
    "train_df = train_df.drop(['patient_id','data_source'], axis=1)"
   ]
  },
  {
   "cell_type": "code",
   "execution_count": 6,
   "metadata": {},
   "outputs": [
    {
     "data": {
      "text/html": [
       "<div>\n",
       "<style scoped>\n",
       "    .dataframe tbody tr th:only-of-type {\n",
       "        vertical-align: middle;\n",
       "    }\n",
       "\n",
       "    .dataframe tbody tr th {\n",
       "        vertical-align: top;\n",
       "    }\n",
       "\n",
       "    .dataframe thead th {\n",
       "        text-align: right;\n",
       "    }\n",
       "</style>\n",
       "<table border=\"1\" class=\"dataframe\">\n",
       "  <thead>\n",
       "    <tr style=\"text-align: right;\">\n",
       "      <th></th>\n",
       "      <th>filename</th>\n",
       "      <th>class</th>\n",
       "    </tr>\n",
       "  </thead>\n",
       "  <tbody>\n",
       "    <tr>\n",
       "      <th>0</th>\n",
       "      <td>ARDSSevere.png</td>\n",
       "      <td>negative</td>\n",
       "    </tr>\n",
       "    <tr>\n",
       "      <th>1</th>\n",
       "      <td>acute-respiratory-distress-syndrome-ards-1.png</td>\n",
       "      <td>negative</td>\n",
       "    </tr>\n",
       "    <tr>\n",
       "      <th>2</th>\n",
       "      <td>acute-respiratory-distress-syndrome-ards.png</td>\n",
       "      <td>negative</td>\n",
       "    </tr>\n",
       "    <tr>\n",
       "      <th>3</th>\n",
       "      <td>ards-secondary-to-tiger-snake-bite.png</td>\n",
       "      <td>negative</td>\n",
       "    </tr>\n",
       "    <tr>\n",
       "      <th>4</th>\n",
       "      <td>pneumocystis-pneumonia-2-PA.png</td>\n",
       "      <td>negative</td>\n",
       "    </tr>\n",
       "  </tbody>\n",
       "</table>\n",
       "</div>"
      ],
      "text/plain": [
       "                                         filename     class\n",
       "0                                  ARDSSevere.png  negative\n",
       "1  acute-respiratory-distress-syndrome-ards-1.png  negative\n",
       "2    acute-respiratory-distress-syndrome-ards.png  negative\n",
       "3          ards-secondary-to-tiger-snake-bite.png  negative\n",
       "4                 pneumocystis-pneumonia-2-PA.png  negative"
      ]
     },
     "execution_count": 6,
     "metadata": {},
     "output_type": "execute_result"
    }
   ],
   "source": [
    "train_df.head()"
   ]
  },
  {
   "cell_type": "code",
   "execution_count": 7,
   "metadata": {},
   "outputs": [],
   "source": [
    "# same for test set\n",
    "test_df = pd.read_csv('COVIDxCXR-2/test.txt',sep=\" \",header=None)\n",
    "test_df.columns = ['patient_id','filename','class','data_source']\n",
    "test_df = test_df.drop(['patient_id','data_source'], axis=1)"
   ]
  },
  {
   "cell_type": "code",
   "execution_count": 8,
   "metadata": {},
   "outputs": [
    {
     "data": {
      "text/html": [
       "<div>\n",
       "<style scoped>\n",
       "    .dataframe tbody tr th:only-of-type {\n",
       "        vertical-align: middle;\n",
       "    }\n",
       "\n",
       "    .dataframe tbody tr th {\n",
       "        vertical-align: top;\n",
       "    }\n",
       "\n",
       "    .dataframe thead th {\n",
       "        text-align: right;\n",
       "    }\n",
       "</style>\n",
       "<table border=\"1\" class=\"dataframe\">\n",
       "  <thead>\n",
       "    <tr style=\"text-align: right;\">\n",
       "      <th></th>\n",
       "      <th>filename</th>\n",
       "      <th>class</th>\n",
       "    </tr>\n",
       "  </thead>\n",
       "  <tbody>\n",
       "    <tr>\n",
       "      <th>0</th>\n",
       "      <td>MIDRC-RICORD-1C-419639-003251-46647-0.png</td>\n",
       "      <td>positive</td>\n",
       "    </tr>\n",
       "    <tr>\n",
       "      <th>1</th>\n",
       "      <td>MIDRC-RICORD-1C-419639-001464-39871-0.png</td>\n",
       "      <td>positive</td>\n",
       "    </tr>\n",
       "    <tr>\n",
       "      <th>2</th>\n",
       "      <td>MIDRC-RICORD-1C-419639-000918-78965-0.png</td>\n",
       "      <td>positive</td>\n",
       "    </tr>\n",
       "    <tr>\n",
       "      <th>3</th>\n",
       "      <td>MIDRC-RICORD-1C-419639-003318-64285-0.png</td>\n",
       "      <td>positive</td>\n",
       "    </tr>\n",
       "    <tr>\n",
       "      <th>4</th>\n",
       "      <td>MIDRC-RICORD-1C-419639-001015-81591-0.png</td>\n",
       "      <td>positive</td>\n",
       "    </tr>\n",
       "  </tbody>\n",
       "</table>\n",
       "</div>"
      ],
      "text/plain": [
       "                                    filename     class\n",
       "0  MIDRC-RICORD-1C-419639-003251-46647-0.png  positive\n",
       "1  MIDRC-RICORD-1C-419639-001464-39871-0.png  positive\n",
       "2  MIDRC-RICORD-1C-419639-000918-78965-0.png  positive\n",
       "3  MIDRC-RICORD-1C-419639-003318-64285-0.png  positive\n",
       "4  MIDRC-RICORD-1C-419639-001015-81591-0.png  positive"
      ]
     },
     "execution_count": 8,
     "metadata": {},
     "output_type": "execute_result"
    }
   ],
   "source": [
    "test_df.head()"
   ]
  },
  {
   "cell_type": "code",
   "execution_count": 9,
   "metadata": {},
   "outputs": [
    {
     "data": {
      "text/plain": [
       "positive    16490\n",
       "negative    13992\n",
       "Name: class, dtype: int64"
      ]
     },
     "execution_count": 9,
     "metadata": {},
     "output_type": "execute_result"
    }
   ],
   "source": [
    "train_df['class'].value_counts()"
   ]
  },
  {
   "cell_type": "markdown",
   "metadata": {},
   "source": [
    "Since positive samples are more than negative ones, we need to balance the training set. Otherwise the model we create will be more biased towards positive."
   ]
  },
  {
   "cell_type": "code",
   "execution_count": 37,
   "metadata": {},
   "outputs": [
    {
     "data": {
      "text/html": [
       "<div>\n",
       "<style scoped>\n",
       "    .dataframe tbody tr th:only-of-type {\n",
       "        vertical-align: middle;\n",
       "    }\n",
       "\n",
       "    .dataframe tbody tr th {\n",
       "        vertical-align: top;\n",
       "    }\n",
       "\n",
       "    .dataframe thead th {\n",
       "        text-align: right;\n",
       "    }\n",
       "</style>\n",
       "<table border=\"1\" class=\"dataframe\">\n",
       "  <thead>\n",
       "    <tr style=\"text-align: right;\">\n",
       "      <th></th>\n",
       "      <th>filename</th>\n",
       "      <th>class</th>\n",
       "    </tr>\n",
       "  </thead>\n",
       "  <tbody>\n",
       "    <tr>\n",
       "      <th>5974</th>\n",
       "      <td>84f7d0fd-fd19-426e-8344-b56dbc1ca6e4.png</td>\n",
       "      <td>negative</td>\n",
       "    </tr>\n",
       "    <tr>\n",
       "      <th>23212</th>\n",
       "      <td>A111061-12-31-1900-NA-CHEST_AP_PORT-26437-4.00...</td>\n",
       "      <td>positive</td>\n",
       "    </tr>\n",
       "    <tr>\n",
       "      <th>22872</th>\n",
       "      <td>A672510-12-31-1900-NA-CHEST_AP_VIEWONLY-53780-...</td>\n",
       "      <td>positive</td>\n",
       "    </tr>\n",
       "    <tr>\n",
       "      <th>27490</th>\n",
       "      <td>A978197-01-10-1901-NA-CHEST_AP_VIEWONLY-43070-...</td>\n",
       "      <td>positive</td>\n",
       "    </tr>\n",
       "    <tr>\n",
       "      <th>18910</th>\n",
       "      <td>A874838-12-31-1900-NA-CHEST_AP_VIEWONLY-76825-...</td>\n",
       "      <td>positive</td>\n",
       "    </tr>\n",
       "  </tbody>\n",
       "</table>\n",
       "</div>"
      ],
      "text/plain": [
       "                                                filename     class\n",
       "5974            84f7d0fd-fd19-426e-8344-b56dbc1ca6e4.png  negative\n",
       "23212  A111061-12-31-1900-NA-CHEST_AP_PORT-26437-4.00...  positive\n",
       "22872  A672510-12-31-1900-NA-CHEST_AP_VIEWONLY-53780-...  positive\n",
       "27490  A978197-01-10-1901-NA-CHEST_AP_VIEWONLY-43070-...  positive\n",
       "18910  A874838-12-31-1900-NA-CHEST_AP_VIEWONLY-76825-...  positive"
      ]
     },
     "execution_count": 37,
     "metadata": {},
     "output_type": "execute_result"
    }
   ],
   "source": [
    "# get negative values in class column\n",
    "negative = train_df[train_df['class'] == 'negative']\n",
    "\n",
    "# get positive values in class column\n",
    "positive = train_df[train_df['class'] == 'positive']\n",
    "\n",
    "from sklearn.utils import resample\n",
    "# we downsample each class to 13990 samples\n",
    "df_negative_downsampled = resample(negative, replace=True,random_state=0, n_samples = 13990)\n",
    "df_positive_downsampled = resample(positive, replace=True,random_state=0, n_samples = 13990)\n",
    "\n",
    "# concatenate\n",
    "train_df = pd.concat([df_negative_downsampled,df_positive_downsampled])\n",
    "\n",
    "from sklearn.utils import shuffle\n",
    "# shuffle the dataset again to randomize it\n",
    "train_df = shuffle(train_df,random_state=0)\n",
    "train_df.head()"
   ]
  },
  {
   "cell_type": "code",
   "execution_count": 38,
   "metadata": {},
   "outputs": [
    {
     "data": {
      "text/plain": [
       "positive    13990\n",
       "negative    13990\n",
       "Name: class, dtype: int64"
      ]
     },
     "execution_count": 38,
     "metadata": {},
     "output_type": "execute_result"
    }
   ],
   "source": [
    "train_df['class'].value_counts()"
   ]
  },
  {
   "cell_type": "code",
   "execution_count": 39,
   "metadata": {},
   "outputs": [
    {
     "data": {
      "text/html": [
       "<div>\n",
       "<style scoped>\n",
       "    .dataframe tbody tr th:only-of-type {\n",
       "        vertical-align: middle;\n",
       "    }\n",
       "\n",
       "    .dataframe tbody tr th {\n",
       "        vertical-align: top;\n",
       "    }\n",
       "\n",
       "    .dataframe thead th {\n",
       "        text-align: right;\n",
       "    }\n",
       "</style>\n",
       "<table border=\"1\" class=\"dataframe\">\n",
       "  <thead>\n",
       "    <tr style=\"text-align: right;\">\n",
       "      <th></th>\n",
       "      <th>filename</th>\n",
       "      <th>class</th>\n",
       "    </tr>\n",
       "  </thead>\n",
       "  <tbody>\n",
       "    <tr>\n",
       "      <th>5974</th>\n",
       "      <td>84f7d0fd-fd19-426e-8344-b56dbc1ca6e4.png</td>\n",
       "      <td>0</td>\n",
       "    </tr>\n",
       "    <tr>\n",
       "      <th>23212</th>\n",
       "      <td>A111061-12-31-1900-NA-CHEST_AP_PORT-26437-4.00...</td>\n",
       "      <td>1</td>\n",
       "    </tr>\n",
       "    <tr>\n",
       "      <th>22872</th>\n",
       "      <td>A672510-12-31-1900-NA-CHEST_AP_VIEWONLY-53780-...</td>\n",
       "      <td>1</td>\n",
       "    </tr>\n",
       "    <tr>\n",
       "      <th>27490</th>\n",
       "      <td>A978197-01-10-1901-NA-CHEST_AP_VIEWONLY-43070-...</td>\n",
       "      <td>1</td>\n",
       "    </tr>\n",
       "    <tr>\n",
       "      <th>18910</th>\n",
       "      <td>A874838-12-31-1900-NA-CHEST_AP_VIEWONLY-76825-...</td>\n",
       "      <td>1</td>\n",
       "    </tr>\n",
       "  </tbody>\n",
       "</table>\n",
       "</div>"
      ],
      "text/plain": [
       "                                                filename  class\n",
       "5974            84f7d0fd-fd19-426e-8344-b56dbc1ca6e4.png      0\n",
       "23212  A111061-12-31-1900-NA-CHEST_AP_PORT-26437-4.00...      1\n",
       "22872  A672510-12-31-1900-NA-CHEST_AP_VIEWONLY-53780-...      1\n",
       "27490  A978197-01-10-1901-NA-CHEST_AP_VIEWONLY-43070-...      1\n",
       "18910  A874838-12-31-1900-NA-CHEST_AP_VIEWONLY-76825-...      1"
      ]
     },
     "execution_count": 39,
     "metadata": {},
     "output_type": "execute_result"
    }
   ],
   "source": [
    "# encode the label to numbers\n",
    "train_df['class'] = train_df['class'].map({'negative': 0, 'positive': 1})\n",
    "test_df['class'] = test_df['class'].map({'negative': 0, 'positive': 1})\n",
    "\n",
    "train_df.head()"
   ]
  },
  {
   "cell_type": "code",
   "execution_count": 40,
   "metadata": {},
   "outputs": [],
   "source": [
    "# split the train data into training and validation dataset\n",
    "from sklearn.model_selection import train_test_split\n",
    "train_df, valid_df = train_test_split(train_df, train_size=0.9, random_state=0)"
   ]
  },
  {
   "cell_type": "code",
   "execution_count": 41,
   "metadata": {},
   "outputs": [
    {
     "name": "stdout",
     "output_type": "stream",
     "text": [
      "Negative and positive values of train: 1    12623\n",
      "0    12559\n",
      "Name: class, dtype: int64\n",
      "Negative and positive values of validation: 0    1431\n",
      "1    1367\n",
      "Name: class, dtype: int64\n",
      "Negative and positive values of test: 1    200\n",
      "0    200\n",
      "Name: class, dtype: int64\n"
     ]
    }
   ],
   "source": [
    "#Let's see how many images for training and validation and testing\n",
    "\n",
    "print(f\"Negative and positive values of train: {train_df['class'].value_counts()}\")\n",
    "print(f\"Negative and positive values of validation: {valid_df['class'].value_counts()}\")\n",
    "print(f\"Negative and positive values of test: {test_df['class'].value_counts()}\")"
   ]
  },
  {
   "cell_type": "code",
   "execution_count": 82,
   "metadata": {},
   "outputs": [],
   "source": [
    "# define directory path\n",
    "train_path = 'COVIDxCXR-2/train'\n",
    "test_path = 'COVIDxCXR-2/test'\n",
    "\n",
    "# define function inherited from Dataset class to get data with indices\n",
    "from torch.utils.data import Dataset\n",
    "from torchvision.io import read_image,ImageReadMode\n",
    "from torchvision import transforms\n",
    "from PIL import Image\n",
    "class CustomImageDataset(Dataset):\n",
    "    def __init__(self, data_frame, root_dir, transform=None):\n",
    "        self.data_frame = data_frame\n",
    "        self.root_dir = root_dir\n",
    "        self.transform = transform\n",
    "    \n",
    "    def __len__(self):\n",
    "        return len(self.data_frame)\n",
    "    \n",
    "    def __getitem__(self, idx):\n",
    "        img_path = os.path.join(self.root_dir, self.data_frame.iloc[idx,0])\n",
    "\n",
    "        image = Image.open(img_path)\n",
    "        image = image.convert('RGB')\n",
    "        label = self.data_frame.iloc[idx,-1]\n",
    "        \n",
    "        if self.transform:\n",
    "            image = self.transform(image)\n",
    "        return image, label"
   ]
  },
  {
   "cell_type": "code",
   "execution_count": 83,
   "metadata": {},
   "outputs": [],
   "source": [
    "training_data = CustomImageDataset(\n",
    "    data_frame=train_df,\n",
    "    root_dir=train_path,\n",
    "    transform=transforms.Compose([\n",
    "        \n",
    "        transforms.Resize([224,224],transforms.InterpolationMode.BICUBIC),\n",
    "        transforms.RandomHorizontalFlip(),\n",
    "        transforms.RandomRotation(30),\n",
    "        transforms.ToTensor(),\n",
    "        transforms.Normalize(mean=[0.485, 0.456, 0.406],\n",
    "                             std=[0.229, 0.224, 0.225])\n",
    "    ])\n",
    ")"
   ]
  },
  {
   "cell_type": "code",
   "execution_count": 84,
   "metadata": {},
   "outputs": [
    {
     "name": "stderr",
     "output_type": "stream",
     "text": [
      "Clipping input data to the valid range for imshow with RGB data ([0..1] for floats or [0..255] for integers).\n"
     ]
    },
    {
     "data": {
      "image/png": "[encoded data removed]",
      "text/plain": [
       "<Figure size 432x288 with 1 Axes>"
      ]
     },
     "metadata": {
      "needs_background": "light"
     },
     "output_type": "display_data"
    }
   ],
   "source": [
    "# show sample images\n",
    "temp_img, temp_label = training_data[253]\n",
    "plt.imshow(temp_img.numpy().transpose((1,2,0)),cmap='gray')\n",
    "plt.title(temp_label)\n",
    "plt.axis('off')\n",
    "plt.show()"
   ]
  },
  {
   "cell_type": "code",
   "execution_count": 85,
   "metadata": {},
   "outputs": [],
   "source": [
    "validation_data = CustomImageDataset(\n",
    "    data_frame=valid_df,\n",
    "    root_dir=train_path,\n",
    "    transform=transforms.Compose([\n",
    "        transforms.Resize([224,224],transforms.InterpolationMode.BICUBIC),\n",
    "        transforms.RandomHorizontalFlip(),\n",
    "        transforms.RandomRotation(30),\n",
    "        transforms.ToTensor(),\n",
    "        transforms.Normalize(mean=[0.485, 0.456, 0.406],\n",
    "                             std=[0.229, 0.224, 0.225])\n",
    "    ])\n",
    ")\n",
    "\n",
    "test_data  = CustomImageDataset(\n",
    "    data_frame=test_df,\n",
    "    root_dir=test_path,\n",
    "    transform=transforms.Compose([\n",
    "        transforms.Resize([224,244],transforms.InterpolationMode.BICUBIC),\n",
    "        transforms.ToTensor(),\n",
    "        transforms.Normalize(mean=[0.485, 0.456, 0.406],\n",
    "                             std=[0.229, 0.224, 0.225])\n",
    "    ])\n",
    ")"
   ]
  },
  {
   "cell_type": "code",
   "execution_count": 86,
   "metadata": {},
   "outputs": [
    {
     "name": "stderr",
     "output_type": "stream",
     "text": [
      "Clipping input data to the valid range for imshow with RGB data ([0..1] for floats or [0..255] for integers).\n"
     ]
    },
    {
     "data": {
      "image/png": "[encoded data removed]",
      "text/plain": [
       "<Figure size 432x288 with 1 Axes>"
      ]
     },
     "metadata": {
      "needs_background": "light"
     },
     "output_type": "display_data"
    }
   ],
   "source": [
    "temp_img, temp_label = validation_data[253]\n",
    "plt.imshow(temp_img.numpy().transpose((1,2,0)),cmap='gray')\n",
    "plt.title(temp_label)\n",
    "plt.axis('off')\n",
    "plt.show()"
   ]
  },
  {
   "cell_type": "code",
   "execution_count": 87,
   "metadata": {},
   "outputs": [
    {
     "name": "stderr",
     "output_type": "stream",
     "text": [
      "Clipping input data to the valid range for imshow with RGB data ([0..1] for floats or [0..255] for integers).\n"
     ]
    },
    {
     "data": {
      "image/png": "[encoded data removed]",
      "text/plain": [
       "<Figure size 432x288 with 1 Axes>"
      ]
     },
     "metadata": {
      "needs_background": "light"
     },
     "output_type": "display_data"
    }
   ],
   "source": [
    "temp_img, temp_label = test_data[253]\n",
    "plt.imshow(temp_img.numpy().transpose((1,2,0)),cmap='gray')\n",
    "plt.title(temp_label)\n",
    "plt.axis('off')\n",
    "plt.show()"
   ]
  },
  {
   "cell_type": "code",
   "execution_count": 3,
   "metadata": {},
   "outputs": [
    {
     "ename": "NameError",
     "evalue": "name 'training_data' is not defined",
     "output_type": "error",
     "traceback": [
      "\u001b[1;31m---------------------------------------------------------------------------\u001b[0m",
      "\u001b[1;31mNameError\u001b[0m                                 Traceback (most recent call last)",
      "\u001b[1;32m<ipython-input-3-be0433175ffc>\u001b[0m in \u001b[0;36m<module>\u001b[1;34m\u001b[0m\n\u001b[0;32m      1\u001b[0m \u001b[1;32mfrom\u001b[0m \u001b[0mtorch\u001b[0m\u001b[1;33m.\u001b[0m\u001b[0mutils\u001b[0m\u001b[1;33m.\u001b[0m\u001b[0mdata\u001b[0m \u001b[1;32mimport\u001b[0m \u001b[0mDataLoader\u001b[0m\u001b[1;33m\u001b[0m\u001b[1;33m\u001b[0m\u001b[0m\n\u001b[0;32m      2\u001b[0m \u001b[1;33m\u001b[0m\u001b[0m\n\u001b[1;32m----> 3\u001b[1;33m \u001b[0mtrainloader\u001b[0m \u001b[1;33m=\u001b[0m \u001b[0mDataLoader\u001b[0m\u001b[1;33m(\u001b[0m\u001b[0mtraining_data\u001b[0m\u001b[1;33m,\u001b[0m \u001b[0mbatch_size\u001b[0m\u001b[1;33m=\u001b[0m\u001b[1;36m64\u001b[0m\u001b[1;33m,\u001b[0m\u001b[0mshuffle\u001b[0m\u001b[1;33m=\u001b[0m\u001b[1;32mTrue\u001b[0m\u001b[1;33m,\u001b[0m\u001b[0mnum_workers\u001b[0m\u001b[1;33m=\u001b[0m\u001b[1;36m0\u001b[0m\u001b[1;33m)\u001b[0m\u001b[1;33m\u001b[0m\u001b[1;33m\u001b[0m\u001b[0m\n\u001b[0m\u001b[0;32m      4\u001b[0m \u001b[0mvalidloader\u001b[0m \u001b[1;33m=\u001b[0m \u001b[0mDataLoader\u001b[0m\u001b[1;33m(\u001b[0m\u001b[0mvalidation_data\u001b[0m\u001b[1;33m,\u001b[0m \u001b[0mbatch_size\u001b[0m\u001b[1;33m=\u001b[0m\u001b[1;36m64\u001b[0m\u001b[1;33m,\u001b[0m\u001b[0mshuffle\u001b[0m\u001b[1;33m=\u001b[0m\u001b[1;32mTrue\u001b[0m\u001b[1;33m,\u001b[0m\u001b[0mnum_workers\u001b[0m\u001b[1;33m=\u001b[0m\u001b[1;36m0\u001b[0m\u001b[1;33m)\u001b[0m\u001b[1;33m\u001b[0m\u001b[1;33m\u001b[0m\u001b[0m\n\u001b[0;32m      5\u001b[0m \u001b[0mtestLoader\u001b[0m \u001b[1;33m=\u001b[0m \u001b[0mDataLoader\u001b[0m\u001b[1;33m(\u001b[0m\u001b[0mtest_data\u001b[0m\u001b[1;33m,\u001b[0m\u001b[0mbatch_size\u001b[0m\u001b[1;33m=\u001b[0m\u001b[1;36m64\u001b[0m\u001b[1;33m,\u001b[0m\u001b[0mshuffle\u001b[0m\u001b[1;33m=\u001b[0m\u001b[1;32mTrue\u001b[0m\u001b[1;33m,\u001b[0m\u001b[0mnum_workers\u001b[0m\u001b[1;33m=\u001b[0m\u001b[1;36m0\u001b[0m\u001b[1;33m)\u001b[0m\u001b[1;33m\u001b[0m\u001b[1;33m\u001b[0m\u001b[0m\n",
      "\u001b[1;31mNameError\u001b[0m: name 'training_data' is not defined"
     ]
    }
   ],
   "source": [
    "from torch.utils.data import DataLoader\n",
    "\n",
    "trainloader = DataLoader(training_data, batch_size=64,shuffle=True,num_workers=0)\n",
    "validloader = DataLoader(validation_data, batch_size=64,shuffle=True,num_workers=0)\n",
    "testLoader = DataLoader(test_data,batch_size=64,shuffle=True,num_workers=0)"
   ]
  },
  {
   "cell_type": "markdown",
   "metadata": {},
   "source": [
    "### Step2: import pretrained models\n",
    "Replace last layer and train"
   ]
  },
  {
   "cell_type": "code",
   "execution_count": 89,
   "metadata": {},
   "outputs": [
    {
     "data": {
      "text/plain": [
       "torch.Size([64, 1000])"
      ]
     },
     "execution_count": 89,
     "metadata": {},
     "output_type": "execute_result"
    }
   ],
   "source": [
    "# import and try the pretrained model\n",
    "from torchvision import models\n",
    "resnet18 = models.resnet18(pretrained=True)\n",
    "inputs, labels = next(iter(trainloader))\n",
    "inputs, labels = inputs.cuda(),labels.cuda()\n",
    "resnet18.cuda()\n",
    "outputs = resnet18(inputs)\n",
    "outputs.size()\n"
   ]
  },
  {
   "cell_type": "code",
   "execution_count": 112,
   "metadata": {},
   "outputs": [],
   "source": [
    "# replace last layer and train\n",
    "# will replace the last layer with one that predicts the 2 classes. \n",
    "# The network weights will be fixed expected for the last layer that is trained\n",
    "import time, copy\n",
    "num_classes = 2\n",
    "batch_size = 64\n",
    "num_epochs = 20\n",
    "feature_extract = True\n"
   ]
  },
  {
   "cell_type": "code",
   "execution_count": 117,
   "metadata": {},
   "outputs": [],
   "source": [
    "\n",
    "# define train_model function to handle the training and validation of a given model\n",
    "def train_model(model, dataloaders, criterion, optimizer, num_epochs=25, is_inception=False):\n",
    "    since = time.time()\n",
    "    \n",
    "    val_acc_history = []\n",
    "    \n",
    "    best_model_wts = copy.deepcopy(model.state_dict())\n",
    "    best_acc = 0.0\n",
    "    \n",
    "    for epoch in range(num_epochs):\n",
    "        print('Epoch {}/{}'.format(epoch, num_epochs - 1))\n",
    "        print('-' * 10)\n",
    "        \n",
    "        # Each epoch has a training and validation phase\n",
    "        for phase in ['train','val']:\n",
    "            if phase == 'train':\n",
    "                model.train()\n",
    "            else:\n",
    "                model.eval()\n",
    "            \n",
    "            running_loss = 0.0\n",
    "            running_corrects = 0.0\n",
    "            \n",
    "            # Iterate over data\n",
    "            for inputs, labels in dataloaders[phase]:\n",
    "                inputs = inputs.to(device)\n",
    "                labels = labels.to(device)\n",
    "                \n",
    "                \n",
    "                # zero the parameter gradients\n",
    "                optimizer.zero_grad()\n",
    "                \n",
    "                with torch.set_grad_enabled(phase == 'train'):\n",
    "                    # Get model outputs and calculate loss\n",
    "                    # Special case for inception because in training it has an auxiliary output. In train\n",
    "                    #   mode we calculate the loss by summing the final output and the auxiliary output\n",
    "                    #   but in testing we only consider the final output.\n",
    "                    if is_inception and phase == 'train':\n",
    "                        outputs, aux_outputs = model(inputs)\n",
    "                        loss1 = criterion(outputs, labels)\n",
    "                        loss2 = criterion(aux_outputs, labels)\n",
    "                        loss = loss1 + 0.4*loss2\n",
    "                    else:\n",
    "                        outputs = model(inputs)\n",
    "                        loss = criterion(outputs, labels)\n",
    "                    \n",
    "                    _, preds = torch.max(outputs, 1)\n",
    "                \n",
    "                    if phase == 'train':\n",
    "                        loss.backward()\n",
    "                        optimizer.step()\n",
    "                \n",
    "                # statistics\n",
    "                running_loss += loss.item() * inputs.size(0)\n",
    "                running_corrects += torch.sum(preds == labels.data)\n",
    "            \n",
    "            epoch_loss = running_loss / len(dataloaders[phase].dataset)\n",
    "            epoch_acc = running_corrects.double() / len(dataloaders[phase].dataset)\n",
    "            \n",
    "            print('{} Loss: {:.4f} Acc: {:.4f}'.format(phase, epoch_loss, epoch_acc))\n",
    "            \n",
    "            # deep copy the model\n",
    "            if phase == 'val' and epoch_acc > best_acc:\n",
    "                best_acc = epoch_acc\n",
    "                best_model_wts = copy.deepcopy(model.state_dict())\n",
    "            if phase == 'val':\n",
    "                val_acc_history.append(epoch_acc)\n",
    "        \n",
    "        print()\n",
    "    \n",
    "    time_elapsed = time.time() - since\n",
    "    print('Training complete in {:.0f}m {:.0f}s'.format(time_elapsed // 60, time_elapsed % 60))\n",
    "    print('Best val Acc: {:4f}'.format(best_acc))\n",
    "    \n",
    "    # load best model weights\n",
    "    model.load_state_dict(best_model_wts)\n",
    "    return model, val_acc_history"
   ]
  },
  {
   "cell_type": "code",
   "execution_count": 99,
   "metadata": {},
   "outputs": [],
   "source": [
    "def set_parameter_requires_grad(model, feature_extracting):\n",
    "    if feature_extracting:\n",
    "        for param in model.parameters():\n",
    "            param.requires_grad = False"
   ]
  },
  {
   "cell_type": "code",
   "execution_count": 100,
   "metadata": {},
   "outputs": [],
   "source": [
    "def test_accuracy(loader, model):\n",
    "    num_correct = 0\n",
    "    num_samples = 0\n",
    "    model.eval()\n",
    "    \n",
    "    with torch.no_grad():\n",
    "        for x,y in loader:\n",
    "            x = x.to(device=device)\n",
    "            y = y.to(device=device)\n",
    "            \n",
    "            scores = model(x)\n",
    "            _,predictions = scores.max(1)\n",
    "            num_correct += (predictions == y).sum()\n",
    "            num_samples += predictions.size(0)\n",
    "        \n",
    "        print(f'Got {num_correct} / {num_samples} with accuracy {float(num_correct)/float(num_samples)*100:.2f}') \n",
    "    \n",
    "    model.train()"
   ]
  },
  {
   "cell_type": "markdown",
   "metadata": {},
   "source": [
    "#### ResNet34"
   ]
  },
  {
   "cell_type": "code",
   "execution_count": 122,
   "metadata": {},
   "outputs": [],
   "source": [
    "resnet34 = models.resnet34(pretrained=True)\n",
    "\n",
    "# freeze all model parameters\n",
    "set_parameter_requires_grad(resnet34, feature_extract)\n",
    "\n",
    "dataloaders_dict = {'train':trainloader,'val':validloader}\n",
    "\n",
    "# new final layer with 2 classes\n",
    "num_features = resnet34.fc.in_features\n",
    "resnet34.fc = torch.nn.Linear(num_features, 2)\n",
    "\n",
    "resnet34 = resnet34.to(device)\n",
    "# create the optimizer\n",
    "criterion = torch.nn.CrossEntropyLoss()\n",
    "optimizer = torch.optim.SGD(resnet34.fc.parameters(), lr=0.01, momentum = 0.9)"
   ]
  },
  {
   "cell_type": "code",
   "execution_count": 123,
   "metadata": {},
   "outputs": [
    {
     "data": {
      "text/plain": [
       "True"
      ]
     },
     "execution_count": 123,
     "metadata": {},
     "output_type": "execute_result"
    }
   ],
   "source": [
    "next(resnet34.parameters()).is_cuda"
   ]
  },
  {
   "cell_type": "code",
   "execution_count": 124,
   "metadata": {},
   "outputs": [
    {
     "name": "stdout",
     "output_type": "stream",
     "text": [
      "Epoch 0/19\n",
      "----------\n",
      "train Loss: 0.3564 Acc: 0.8553\n",
      "val Loss: 0.2738 Acc: 0.8856\n",
      "\n",
      "Epoch 1/19\n",
      "----------\n",
      "train Loss: 0.3060 Acc: 0.8798\n",
      "val Loss: 0.2438 Acc: 0.9099\n",
      "\n",
      "Epoch 2/19\n",
      "----------\n",
      "train Loss: 0.3036 Acc: 0.8846\n",
      "val Loss: 0.2540 Acc: 0.8942\n",
      "\n",
      "Epoch 3/19\n",
      "----------\n",
      "train Loss: 0.3123 Acc: 0.8821\n",
      "val Loss: 0.3464 Acc: 0.8767\n",
      "\n",
      "Epoch 4/19\n",
      "----------\n",
      "train Loss: 0.2948 Acc: 0.8878\n",
      "val Loss: 0.2737 Acc: 0.8821\n",
      "\n",
      "Epoch 5/19\n",
      "----------\n",
      "train Loss: 0.3141 Acc: 0.8821\n",
      "val Loss: 0.2584 Acc: 0.9006\n",
      "\n",
      "Epoch 6/19\n",
      "----------\n",
      "train Loss: 0.3340 Acc: 0.8823\n",
      "val Loss: 0.2610 Acc: 0.9049\n",
      "\n",
      "Epoch 7/19\n",
      "----------\n",
      "train Loss: 0.3053 Acc: 0.8863\n",
      "val Loss: 0.3174 Acc: 0.8785\n",
      "\n",
      "Epoch 8/19\n",
      "----------\n",
      "train Loss: 0.3210 Acc: 0.8806\n",
      "val Loss: 0.3383 Acc: 0.8746\n",
      "\n",
      "Epoch 9/19\n",
      "----------\n",
      "train Loss: 0.3117 Acc: 0.8869\n",
      "val Loss: 0.2943 Acc: 0.8838\n",
      "\n",
      "Epoch 10/19\n",
      "----------\n",
      "train Loss: 0.2979 Acc: 0.8877\n",
      "val Loss: 0.2537 Acc: 0.9060\n",
      "\n",
      "Epoch 11/19\n",
      "----------\n",
      "train Loss: 0.2948 Acc: 0.8907\n",
      "val Loss: 0.3422 Acc: 0.8756\n",
      "\n",
      "Epoch 12/19\n",
      "----------\n",
      "train Loss: 0.3030 Acc: 0.8844\n",
      "val Loss: 0.2837 Acc: 0.8914\n",
      "\n",
      "Epoch 13/19\n",
      "----------\n",
      "train Loss: 0.3225 Acc: 0.8817\n",
      "val Loss: 0.2560 Acc: 0.8989\n",
      "\n",
      "Epoch 14/19\n",
      "----------\n",
      "train Loss: 0.2952 Acc: 0.8887\n",
      "val Loss: 0.2707 Acc: 0.8910\n",
      "\n",
      "Epoch 15/19\n",
      "----------\n",
      "train Loss: 0.2976 Acc: 0.8867\n",
      "val Loss: 0.2347 Acc: 0.9071\n",
      "\n",
      "Epoch 16/19\n",
      "----------\n",
      "train Loss: 0.3144 Acc: 0.8822\n",
      "val Loss: 0.2873 Acc: 0.8892\n",
      "\n",
      "Epoch 17/19\n",
      "----------\n",
      "train Loss: 0.3048 Acc: 0.8867\n",
      "val Loss: 0.2744 Acc: 0.9024\n",
      "\n",
      "Epoch 18/19\n",
      "----------\n",
      "train Loss: 0.3226 Acc: 0.8815\n",
      "val Loss: 0.2833 Acc: 0.8874\n",
      "\n",
      "Epoch 19/19\n",
      "----------\n",
      "train Loss: 0.3479 Acc: 0.8775\n",
      "val Loss: 0.4301 Acc: 0.8570\n",
      "\n",
      "Training complete in 187m 59s\n",
      "Best val Acc: 0.909936\n"
     ]
    }
   ],
   "source": [
    "# train and validate\n",
    "resnet34,hist_2 = train_model(resnet34,dataloaders_dict, criterion,optimizer,num_epochs=num_epochs, is_inception=False)\n"
   ]
  },
  {
   "cell_type": "code",
   "execution_count": 125,
   "metadata": {},
   "outputs": [
    {
     "name": "stdout",
     "output_type": "stream",
     "text": [
      "Got 303 / 400 with accuracy 75.75\n"
     ]
    }
   ],
   "source": [
    "test_accuracy(testLoader, resnet34)\n"
   ]
  },
  {
   "cell_type": "markdown",
   "metadata": {},
   "source": [
    "#### MobileNet"
   ]
  },
  {
   "cell_type": "code",
   "execution_count": 127,
   "metadata": {},
   "outputs": [
    {
     "data": {
      "text/plain": [
       "MobileNetV3(\n",
       "  (features): Sequential(\n",
       "    (0): ConvNormActivation(\n",
       "      (0): Conv2d(3, 16, kernel_size=(3, 3), stride=(2, 2), padding=(1, 1), bias=False)\n",
       "      (1): BatchNorm2d(16, eps=0.001, momentum=0.01, affine=True, track_running_stats=True)\n",
       "      (2): Hardswish()\n",
       "    )\n",
       "    (1): InvertedResidual(\n",
       "      (block): Sequential(\n",
       "        (0): ConvNormActivation(\n",
       "          (0): Conv2d(16, 16, kernel_size=(3, 3), stride=(2, 2), padding=(1, 1), groups=16, bias=False)\n",
       "          (1): BatchNorm2d(16, eps=0.001, momentum=0.01, affine=True, track_running_stats=True)\n",
       "          (2): ReLU(inplace=True)\n",
       "        )\n",
       "        (1): SqueezeExcitation(\n",
       "          (avgpool): AdaptiveAvgPool2d(output_size=1)\n",
       "          (fc1): Conv2d(16, 8, kernel_size=(1, 1), stride=(1, 1))\n",
       "          (fc2): Conv2d(8, 16, kernel_size=(1, 1), stride=(1, 1))\n",
       "          (activation): ReLU()\n",
       "          (scale_activation): Hardsigmoid()\n",
       "        )\n",
       "        (2): ConvNormActivation(\n",
       "          (0): Conv2d(16, 16, kernel_size=(1, 1), stride=(1, 1), bias=False)\n",
       "          (1): BatchNorm2d(16, eps=0.001, momentum=0.01, affine=True, track_running_stats=True)\n",
       "        )\n",
       "      )\n",
       "    )\n",
       "    (2): InvertedResidual(\n",
       "      (block): Sequential(\n",
       "        (0): ConvNormActivation(\n",
       "          (0): Conv2d(16, 72, kernel_size=(1, 1), stride=(1, 1), bias=False)\n",
       "          (1): BatchNorm2d(72, eps=0.001, momentum=0.01, affine=True, track_running_stats=True)\n",
       "          (2): ReLU(inplace=True)\n",
       "        )\n",
       "        (1): ConvNormActivation(\n",
       "          (0): Conv2d(72, 72, kernel_size=(3, 3), stride=(2, 2), padding=(1, 1), groups=72, bias=False)\n",
       "          (1): BatchNorm2d(72, eps=0.001, momentum=0.01, affine=True, track_running_stats=True)\n",
       "          (2): ReLU(inplace=True)\n",
       "        )\n",
       "        (2): ConvNormActivation(\n",
       "          (0): Conv2d(72, 24, kernel_size=(1, 1), stride=(1, 1), bias=False)\n",
       "          (1): BatchNorm2d(24, eps=0.001, momentum=0.01, affine=True, track_running_stats=True)\n",
       "        )\n",
       "      )\n",
       "    )\n",
       "    (3): InvertedResidual(\n",
       "      (block): Sequential(\n",
       "        (0): ConvNormActivation(\n",
       "          (0): Conv2d(24, 88, kernel_size=(1, 1), stride=(1, 1), bias=False)\n",
       "          (1): BatchNorm2d(88, eps=0.001, momentum=0.01, affine=True, track_running_stats=True)\n",
       "          (2): ReLU(inplace=True)\n",
       "        )\n",
       "        (1): ConvNormActivation(\n",
       "          (0): Conv2d(88, 88, kernel_size=(3, 3), stride=(1, 1), padding=(1, 1), groups=88, bias=False)\n",
       "          (1): BatchNorm2d(88, eps=0.001, momentum=0.01, affine=True, track_running_stats=True)\n",
       "          (2): ReLU(inplace=True)\n",
       "        )\n",
       "        (2): ConvNormActivation(\n",
       "          (0): Conv2d(88, 24, kernel_size=(1, 1), stride=(1, 1), bias=False)\n",
       "          (1): BatchNorm2d(24, eps=0.001, momentum=0.01, affine=True, track_running_stats=True)\n",
       "        )\n",
       "      )\n",
       "    )\n",
       "    (4): InvertedResidual(\n",
       "      (block): Sequential(\n",
       "        (0): ConvNormActivation(\n",
       "          (0): Conv2d(24, 96, kernel_size=(1, 1), stride=(1, 1), bias=False)\n",
       "          (1): BatchNorm2d(96, eps=0.001, momentum=0.01, affine=True, track_running_stats=True)\n",
       "          (2): Hardswish()\n",
       "        )\n",
       "        (1): ConvNormActivation(\n",
       "          (0): Conv2d(96, 96, kernel_size=(5, 5), stride=(2, 2), padding=(2, 2), groups=96, bias=False)\n",
       "          (1): BatchNorm2d(96, eps=0.001, momentum=0.01, affine=True, track_running_stats=True)\n",
       "          (2): Hardswish()\n",
       "        )\n",
       "        (2): SqueezeExcitation(\n",
       "          (avgpool): AdaptiveAvgPool2d(output_size=1)\n",
       "          (fc1): Conv2d(96, 24, kernel_size=(1, 1), stride=(1, 1))\n",
       "          (fc2): Conv2d(24, 96, kernel_size=(1, 1), stride=(1, 1))\n",
       "          (activation): ReLU()\n",
       "          (scale_activation): Hardsigmoid()\n",
       "        )\n",
       "        (3): ConvNormActivation(\n",
       "          (0): Conv2d(96, 40, kernel_size=(1, 1), stride=(1, 1), bias=False)\n",
       "          (1): BatchNorm2d(40, eps=0.001, momentum=0.01, affine=True, track_running_stats=True)\n",
       "        )\n",
       "      )\n",
       "    )\n",
       "    (5): InvertedResidual(\n",
       "      (block): Sequential(\n",
       "        (0): ConvNormActivation(\n",
       "          (0): Conv2d(40, 240, kernel_size=(1, 1), stride=(1, 1), bias=False)\n",
       "          (1): BatchNorm2d(240, eps=0.001, momentum=0.01, affine=True, track_running_stats=True)\n",
       "          (2): Hardswish()\n",
       "        )\n",
       "        (1): ConvNormActivation(\n",
       "          (0): Conv2d(240, 240, kernel_size=(5, 5), stride=(1, 1), padding=(2, 2), groups=240, bias=False)\n",
       "          (1): BatchNorm2d(240, eps=0.001, momentum=0.01, affine=True, track_running_stats=True)\n",
       "          (2): Hardswish()\n",
       "        )\n",
       "        (2): SqueezeExcitation(\n",
       "          (avgpool): AdaptiveAvgPool2d(output_size=1)\n",
       "          (fc1): Conv2d(240, 64, kernel_size=(1, 1), stride=(1, 1))\n",
       "          (fc2): Conv2d(64, 240, kernel_size=(1, 1), stride=(1, 1))\n",
       "          (activation): ReLU()\n",
       "          (scale_activation): Hardsigmoid()\n",
       "        )\n",
       "        (3): ConvNormActivation(\n",
       "          (0): Conv2d(240, 40, kernel_size=(1, 1), stride=(1, 1), bias=False)\n",
       "          (1): BatchNorm2d(40, eps=0.001, momentum=0.01, affine=True, track_running_stats=True)\n",
       "        )\n",
       "      )\n",
       "    )\n",
       "    (6): InvertedResidual(\n",
       "      (block): Sequential(\n",
       "        (0): ConvNormActivation(\n",
       "          (0): Conv2d(40, 240, kernel_size=(1, 1), stride=(1, 1), bias=False)\n",
       "          (1): BatchNorm2d(240, eps=0.001, momentum=0.01, affine=True, track_running_stats=True)\n",
       "          (2): Hardswish()\n",
       "        )\n",
       "        (1): ConvNormActivation(\n",
       "          (0): Conv2d(240, 240, kernel_size=(5, 5), stride=(1, 1), padding=(2, 2), groups=240, bias=False)\n",
       "          (1): BatchNorm2d(240, eps=0.001, momentum=0.01, affine=True, track_running_stats=True)\n",
       "          (2): Hardswish()\n",
       "        )\n",
       "        (2): SqueezeExcitation(\n",
       "          (avgpool): AdaptiveAvgPool2d(output_size=1)\n",
       "          (fc1): Conv2d(240, 64, kernel_size=(1, 1), stride=(1, 1))\n",
       "          (fc2): Conv2d(64, 240, kernel_size=(1, 1), stride=(1, 1))\n",
       "          (activation): ReLU()\n",
       "          (scale_activation): Hardsigmoid()\n",
       "        )\n",
       "        (3): ConvNormActivation(\n",
       "          (0): Conv2d(240, 40, kernel_size=(1, 1), stride=(1, 1), bias=False)\n",
       "          (1): BatchNorm2d(40, eps=0.001, momentum=0.01, affine=True, track_running_stats=True)\n",
       "        )\n",
       "      )\n",
       "    )\n",
       "    (7): InvertedResidual(\n",
       "      (block): Sequential(\n",
       "        (0): ConvNormActivation(\n",
       "          (0): Conv2d(40, 120, kernel_size=(1, 1), stride=(1, 1), bias=False)\n",
       "          (1): BatchNorm2d(120, eps=0.001, momentum=0.01, affine=True, track_running_stats=True)\n",
       "          (2): Hardswish()\n",
       "        )\n",
       "        (1): ConvNormActivation(\n",
       "          (0): Conv2d(120, 120, kernel_size=(5, 5), stride=(1, 1), padding=(2, 2), groups=120, bias=False)\n",
       "          (1): BatchNorm2d(120, eps=0.001, momentum=0.01, affine=True, track_running_stats=True)\n",
       "          (2): Hardswish()\n",
       "        )\n",
       "        (2): SqueezeExcitation(\n",
       "          (avgpool): AdaptiveAvgPool2d(output_size=1)\n",
       "          (fc1): Conv2d(120, 32, kernel_size=(1, 1), stride=(1, 1))\n",
       "          (fc2): Conv2d(32, 120, kernel_size=(1, 1), stride=(1, 1))\n",
       "          (activation): ReLU()\n",
       "          (scale_activation): Hardsigmoid()\n",
       "        )\n",
       "        (3): ConvNormActivation(\n",
       "          (0): Conv2d(120, 48, kernel_size=(1, 1), stride=(1, 1), bias=False)\n",
       "          (1): BatchNorm2d(48, eps=0.001, momentum=0.01, affine=True, track_running_stats=True)\n",
       "        )\n",
       "      )\n",
       "    )\n",
       "    (8): InvertedResidual(\n",
       "      (block): Sequential(\n",
       "        (0): ConvNormActivation(\n",
       "          (0): Conv2d(48, 144, kernel_size=(1, 1), stride=(1, 1), bias=False)\n",
       "          (1): BatchNorm2d(144, eps=0.001, momentum=0.01, affine=True, track_running_stats=True)\n",
       "          (2): Hardswish()\n",
       "        )\n",
       "        (1): ConvNormActivation(\n",
       "          (0): Conv2d(144, 144, kernel_size=(5, 5), stride=(1, 1), padding=(2, 2), groups=144, bias=False)\n",
       "          (1): BatchNorm2d(144, eps=0.001, momentum=0.01, affine=True, track_running_stats=True)\n",
       "          (2): Hardswish()\n",
       "        )\n",
       "        (2): SqueezeExcitation(\n",
       "          (avgpool): AdaptiveAvgPool2d(output_size=1)\n",
       "          (fc1): Conv2d(144, 40, kernel_size=(1, 1), stride=(1, 1))\n",
       "          (fc2): Conv2d(40, 144, kernel_size=(1, 1), stride=(1, 1))\n",
       "          (activation): ReLU()\n",
       "          (scale_activation): Hardsigmoid()\n",
       "        )\n",
       "        (3): ConvNormActivation(\n",
       "          (0): Conv2d(144, 48, kernel_size=(1, 1), stride=(1, 1), bias=False)\n",
       "          (1): BatchNorm2d(48, eps=0.001, momentum=0.01, affine=True, track_running_stats=True)\n",
       "        )\n",
       "      )\n",
       "    )\n",
       "    (9): InvertedResidual(\n",
       "      (block): Sequential(\n",
       "        (0): ConvNormActivation(\n",
       "          (0): Conv2d(48, 288, kernel_size=(1, 1), stride=(1, 1), bias=False)\n",
       "          (1): BatchNorm2d(288, eps=0.001, momentum=0.01, affine=True, track_running_stats=True)\n",
       "          (2): Hardswish()\n",
       "        )\n",
       "        (1): ConvNormActivation(\n",
       "          (0): Conv2d(288, 288, kernel_size=(5, 5), stride=(2, 2), padding=(2, 2), groups=288, bias=False)\n",
       "          (1): BatchNorm2d(288, eps=0.001, momentum=0.01, affine=True, track_running_stats=True)\n",
       "          (2): Hardswish()\n",
       "        )\n",
       "        (2): SqueezeExcitation(\n",
       "          (avgpool): AdaptiveAvgPool2d(output_size=1)\n",
       "          (fc1): Conv2d(288, 72, kernel_size=(1, 1), stride=(1, 1))\n",
       "          (fc2): Conv2d(72, 288, kernel_size=(1, 1), stride=(1, 1))\n",
       "          (activation): ReLU()\n",
       "          (scale_activation): Hardsigmoid()\n",
       "        )\n",
       "        (3): ConvNormActivation(\n",
       "          (0): Conv2d(288, 96, kernel_size=(1, 1), stride=(1, 1), bias=False)\n",
       "          (1): BatchNorm2d(96, eps=0.001, momentum=0.01, affine=True, track_running_stats=True)\n",
       "        )\n",
       "      )\n",
       "    )\n",
       "    (10): InvertedResidual(\n",
       "      (block): Sequential(\n",
       "        (0): ConvNormActivation(\n",
       "          (0): Conv2d(96, 576, kernel_size=(1, 1), stride=(1, 1), bias=False)\n",
       "          (1): BatchNorm2d(576, eps=0.001, momentum=0.01, affine=True, track_running_stats=True)\n",
       "          (2): Hardswish()\n",
       "        )\n",
       "        (1): ConvNormActivation(\n",
       "          (0): Conv2d(576, 576, kernel_size=(5, 5), stride=(1, 1), padding=(2, 2), groups=576, bias=False)\n",
       "          (1): BatchNorm2d(576, eps=0.001, momentum=0.01, affine=True, track_running_stats=True)\n",
       "          (2): Hardswish()\n",
       "        )\n",
       "        (2): SqueezeExcitation(\n",
       "          (avgpool): AdaptiveAvgPool2d(output_size=1)\n",
       "          (fc1): Conv2d(576, 144, kernel_size=(1, 1), stride=(1, 1))\n",
       "          (fc2): Conv2d(144, 576, kernel_size=(1, 1), stride=(1, 1))\n",
       "          (activation): ReLU()\n",
       "          (scale_activation): Hardsigmoid()\n",
       "        )\n",
       "        (3): ConvNormActivation(\n",
       "          (0): Conv2d(576, 96, kernel_size=(1, 1), stride=(1, 1), bias=False)\n",
       "          (1): BatchNorm2d(96, eps=0.001, momentum=0.01, affine=True, track_running_stats=True)\n",
       "        )\n",
       "      )\n",
       "    )\n",
       "    (11): InvertedResidual(\n",
       "      (block): Sequential(\n",
       "        (0): ConvNormActivation(\n",
       "          (0): Conv2d(96, 576, kernel_size=(1, 1), stride=(1, 1), bias=False)\n",
       "          (1): BatchNorm2d(576, eps=0.001, momentum=0.01, affine=True, track_running_stats=True)\n",
       "          (2): Hardswish()\n",
       "        )\n",
       "        (1): ConvNormActivation(\n",
       "          (0): Conv2d(576, 576, kernel_size=(5, 5), stride=(1, 1), padding=(2, 2), groups=576, bias=False)\n",
       "          (1): BatchNorm2d(576, eps=0.001, momentum=0.01, affine=True, track_running_stats=True)\n",
       "          (2): Hardswish()\n",
       "        )\n",
       "        (2): SqueezeExcitation(\n",
       "          (avgpool): AdaptiveAvgPool2d(output_size=1)\n",
       "          (fc1): Conv2d(576, 144, kernel_size=(1, 1), stride=(1, 1))\n",
       "          (fc2): Conv2d(144, 576, kernel_size=(1, 1), stride=(1, 1))\n",
       "          (activation): ReLU()\n",
       "          (scale_activation): Hardsigmoid()\n",
       "        )\n",
       "        (3): ConvNormActivation(\n",
       "          (0): Conv2d(576, 96, kernel_size=(1, 1), stride=(1, 1), bias=False)\n",
       "          (1): BatchNorm2d(96, eps=0.001, momentum=0.01, affine=True, track_running_stats=True)\n",
       "        )\n",
       "      )\n",
       "    )\n",
       "    (12): ConvNormActivation(\n",
       "      (0): Conv2d(96, 576, kernel_size=(1, 1), stride=(1, 1), bias=False)\n",
       "      (1): BatchNorm2d(576, eps=0.001, momentum=0.01, affine=True, track_running_stats=True)\n",
       "      (2): Hardswish()\n",
       "    )\n",
       "  )\n",
       "  (avgpool): AdaptiveAvgPool2d(output_size=1)\n",
       "  (classifier): Sequential(\n",
       "    (0): Linear(in_features=576, out_features=1024, bias=True)\n",
       "    (1): Hardswish()\n",
       "    (2): Dropout(p=0.2, inplace=True)\n",
       "    (3): Linear(in_features=1024, out_features=1000, bias=True)\n",
       "  )\n",
       ")"
      ]
     },
     "execution_count": 127,
     "metadata": {},
     "output_type": "execute_result"
    }
   ],
   "source": [
    "mobilenet_v3_small = models.mobilenet_v3_small(pretrained=True)\n",
    "mobilenet_v3_small"
   ]
  },
  {
   "cell_type": "code",
   "execution_count": 128,
   "metadata": {},
   "outputs": [],
   "source": [
    "# freeze all model parameters\n",
    "set_parameter_requires_grad(mobilenet_v3_small, feature_extract)\n",
    "\n",
    "dataloaders_dict_2 = {'train':trainloader,'val':validloader}\n",
    "\n",
    "num_features_2 = mobilenet_v3_small.classifier[-1].in_features\n",
    "has_bias = False if mobilenet_v3_small.classifier[-1].bias == None else True\n",
    "\n",
    "# replace nn.Linear\n",
    "mobilenet_v3_small.classifier[-1] = torch.nn.Linear(num_features_2, 2, has_bias)\n",
    "\n",
    "mobilenet_v3_small = mobilenet_v3_small.to(device)\n",
    "\n",
    "criterion_2 = torch.nn.CrossEntropyLoss()\n",
    "optimizer_2 = torch.optim.SGD(mobilenet_v3_small.classifier.parameters(), lr=0.01, momentum = 0.9)"
   ]
  },
  {
   "cell_type": "code",
   "execution_count": 129,
   "metadata": {
    "scrolled": true
   },
   "outputs": [
    {
     "name": "stdout",
     "output_type": "stream",
     "text": [
      "Epoch 0/19\n",
      "----------\n",
      "train Loss: 0.2524 Acc: 0.8950\n",
      "val Loss: 0.5687 Acc: 0.7320\n",
      "\n",
      "Epoch 1/19\n",
      "----------\n",
      "train Loss: 0.2201 Acc: 0.9099\n",
      "val Loss: 0.2209 Acc: 0.9128\n",
      "\n",
      "Epoch 2/19\n",
      "----------\n",
      "train Loss: 0.2206 Acc: 0.9103\n",
      "val Loss: 0.2193 Acc: 0.9135\n",
      "\n",
      "Epoch 3/19\n",
      "----------\n",
      "train Loss: 0.2166 Acc: 0.9132\n",
      "val Loss: 0.2204 Acc: 0.9060\n",
      "\n",
      "Epoch 4/19\n",
      "----------\n",
      "train Loss: 0.2137 Acc: 0.9144\n",
      "val Loss: 0.2108 Acc: 0.9142\n",
      "\n",
      "Epoch 5/19\n",
      "----------\n",
      "train Loss: 0.2129 Acc: 0.9126\n",
      "val Loss: 0.2147 Acc: 0.9114\n",
      "\n",
      "Epoch 6/19\n",
      "----------\n",
      "train Loss: 0.2100 Acc: 0.9139\n",
      "val Loss: 0.2034 Acc: 0.9167\n",
      "\n",
      "Epoch 7/19\n",
      "----------\n",
      "train Loss: 0.2153 Acc: 0.9131\n",
      "val Loss: 0.2036 Acc: 0.9121\n",
      "\n",
      "Epoch 8/19\n",
      "----------\n",
      "train Loss: 0.2157 Acc: 0.9124\n",
      "val Loss: 0.2056 Acc: 0.9124\n",
      "\n",
      "Epoch 9/19\n",
      "----------\n",
      "train Loss: 0.2158 Acc: 0.9129\n",
      "val Loss: 0.2188 Acc: 0.9081\n",
      "\n",
      "Epoch 10/19\n",
      "----------\n",
      "train Loss: 0.2133 Acc: 0.9148\n",
      "val Loss: 0.2123 Acc: 0.9171\n",
      "\n",
      "Epoch 11/19\n",
      "----------\n",
      "train Loss: 0.2152 Acc: 0.9126\n",
      "val Loss: 0.2102 Acc: 0.9142\n",
      "\n",
      "Epoch 12/19\n",
      "----------\n",
      "train Loss: 0.2146 Acc: 0.9142\n",
      "val Loss: 0.2130 Acc: 0.9128\n",
      "\n",
      "Epoch 13/19\n",
      "----------\n",
      "train Loss: 0.2142 Acc: 0.9131\n",
      "val Loss: 0.2033 Acc: 0.9146\n",
      "\n",
      "Epoch 14/19\n",
      "----------\n",
      "train Loss: 0.2144 Acc: 0.9146\n",
      "val Loss: 0.2156 Acc: 0.9174\n",
      "\n",
      "Epoch 15/19\n",
      "----------\n",
      "train Loss: 0.2144 Acc: 0.9143\n",
      "val Loss: 0.2034 Acc: 0.9228\n",
      "\n",
      "Epoch 16/19\n",
      "----------\n",
      "train Loss: 0.2123 Acc: 0.9139\n",
      "val Loss: 0.2148 Acc: 0.9174\n",
      "\n",
      "Epoch 17/19\n",
      "----------\n",
      "train Loss: 0.2117 Acc: 0.9147\n",
      "val Loss: 0.2054 Acc: 0.9132\n",
      "\n",
      "Epoch 18/19\n",
      "----------\n",
      "train Loss: 0.2104 Acc: 0.9150\n",
      "val Loss: 0.1945 Acc: 0.9242\n",
      "\n",
      "Epoch 19/19\n",
      "----------\n",
      "train Loss: 0.2168 Acc: 0.9107\n",
      "val Loss: 0.2142 Acc: 0.9153\n",
      "\n",
      "Training complete in 189m 33s\n",
      "Best val Acc: 0.924232\n"
     ]
    }
   ],
   "source": [
    "mobilenet_v3_small,hist = train_model(mobilenet_v3_small,dataloaders_dict_2, criterion_2,optimizer_2,num_epochs=num_epochs, is_inception=False)"
   ]
  },
  {
   "cell_type": "code",
   "execution_count": 130,
   "metadata": {},
   "outputs": [
    {
     "name": "stdout",
     "output_type": "stream",
     "text": [
      "Got 344 / 400 with accuracy 86.00\n"
     ]
    }
   ],
   "source": [
    "test_accuracy(testLoader, mobilenet_v3_small)"
   ]
  },
  {
   "cell_type": "markdown",
   "metadata": {},
   "source": [
    "#### googlenet"
   ]
  },
  {
   "cell_type": "code",
   "execution_count": 119,
   "metadata": {},
   "outputs": [
    {
     "name": "stderr",
     "output_type": "stream",
     "text": [
      "Downloading: \"https://download.pytorch.org/models/googlenet-1378be20.pth\" to C:\\Users\\Song/.cache\\torch\\hub\\checkpoints\\googlenet-1378be20.pth\n"
     ]
    },
    {
     "data": {
      "application/vnd.jupyter.widget-view+json": {
       "model_id": "3629a7c645284d899a3ad1fd20f880f6",
       "version_major": 2,
       "version_minor": 0
      },
      "text/plain": [
       "HBox(children=(FloatProgress(value=0.0, max=52147035.0), HTML(value='')))"
      ]
     },
     "metadata": {},
     "output_type": "display_data"
    },
    {
     "name": "stdout",
     "output_type": "stream",
     "text": [
      "\n"
     ]
    }
   ],
   "source": [
    "googlenet = models.googlenet(pretrained=True)"
   ]
  },
  {
   "cell_type": "code",
   "execution_count": 120,
   "metadata": {},
   "outputs": [],
   "source": [
    "# freeze all model parameters\n",
    "set_parameter_requires_grad(googlenet, feature_extract)\n",
    "\n",
    "dataloaders_dict_3 = {'train':trainloader,'val':validloader}\n",
    "\n",
    "# new final layer with 2 classes\n",
    "num_features = googlenet.fc.in_features\n",
    "googlenet.fc = torch.nn.Linear(num_features, 2)\n",
    "\n",
    "googlenet = googlenet.to(device)\n",
    "# create the optimizer\n",
    "criterion_3 = torch.nn.CrossEntropyLoss()\n",
    "optimizer_3 = torch.optim.SGD(googlenet.fc.parameters(), lr=0.01, momentum = 0.9)"
   ]
  },
  {
   "cell_type": "code",
   "execution_count": 121,
   "metadata": {},
   "outputs": [
    {
     "name": "stdout",
     "output_type": "stream",
     "text": [
      "Epoch 0/19\n",
      "----------\n",
      "train Loss: 0.3123 Acc: 0.8653\n",
      "val Loss: 0.2497 Acc: 0.8953\n",
      "\n",
      "Epoch 1/19\n",
      "----------\n",
      "train Loss: 0.2795 Acc: 0.8849\n",
      "val Loss: 0.2170 Acc: 0.9124\n",
      "\n",
      "Epoch 2/19\n",
      "----------\n",
      "train Loss: 0.2837 Acc: 0.8863\n",
      "val Loss: 0.2129 Acc: 0.9135\n",
      "\n",
      "Epoch 3/19\n",
      "----------\n",
      "train Loss: 0.2704 Acc: 0.8892\n",
      "val Loss: 0.2261 Acc: 0.9060\n",
      "\n",
      "Epoch 4/19\n",
      "----------\n",
      "train Loss: 0.2679 Acc: 0.8920\n",
      "val Loss: 0.2391 Acc: 0.9039\n",
      "\n",
      "Epoch 5/19\n",
      "----------\n",
      "train Loss: 0.2730 Acc: 0.8875\n",
      "val Loss: 0.2240 Acc: 0.9146\n",
      "\n",
      "Epoch 6/19\n",
      "----------\n",
      "train Loss: 0.2665 Acc: 0.8910\n",
      "val Loss: 0.2191 Acc: 0.9128\n",
      "\n",
      "Epoch 7/19\n",
      "----------\n",
      "train Loss: 0.2706 Acc: 0.8899\n",
      "val Loss: 0.2256 Acc: 0.9110\n",
      "\n",
      "Epoch 8/19\n",
      "----------\n",
      "train Loss: 0.2775 Acc: 0.8859\n",
      "val Loss: 0.2532 Acc: 0.8917\n",
      "\n",
      "Epoch 9/19\n",
      "----------\n",
      "train Loss: 0.2754 Acc: 0.8881\n",
      "val Loss: 0.2155 Acc: 0.9149\n",
      "\n",
      "Epoch 10/19\n",
      "----------\n",
      "train Loss: 0.2969 Acc: 0.8816\n",
      "val Loss: 0.2140 Acc: 0.9135\n",
      "\n",
      "Epoch 11/19\n",
      "----------\n",
      "train Loss: 0.2823 Acc: 0.8859\n",
      "val Loss: 0.2217 Acc: 0.9110\n",
      "\n",
      "Epoch 12/19\n",
      "----------\n",
      "train Loss: 0.2831 Acc: 0.8860\n",
      "val Loss: 0.2136 Acc: 0.9099\n",
      "\n",
      "Epoch 13/19\n",
      "----------\n",
      "train Loss: 0.2777 Acc: 0.8883\n",
      "val Loss: 0.2432 Acc: 0.8978\n",
      "\n",
      "Epoch 14/19\n",
      "----------\n",
      "train Loss: 0.2805 Acc: 0.8870\n",
      "val Loss: 0.2230 Acc: 0.9060\n",
      "\n",
      "Epoch 15/19\n",
      "----------\n",
      "train Loss: 0.2700 Acc: 0.8927\n",
      "val Loss: 0.2225 Acc: 0.9078\n",
      "\n",
      "Epoch 16/19\n",
      "----------\n",
      "train Loss: 0.2893 Acc: 0.8844\n",
      "val Loss: 0.2343 Acc: 0.9031\n",
      "\n",
      "Epoch 17/19\n",
      "----------\n",
      "train Loss: 0.2798 Acc: 0.8875\n",
      "val Loss: 0.2112 Acc: 0.9139\n",
      "\n",
      "Epoch 18/19\n",
      "----------\n",
      "train Loss: 0.2749 Acc: 0.8885\n",
      "val Loss: 0.2112 Acc: 0.9189\n",
      "\n",
      "Epoch 19/19\n",
      "----------\n",
      "train Loss: 0.2794 Acc: 0.8870\n",
      "val Loss: 0.2745 Acc: 0.8903\n",
      "\n",
      "Training complete in 433m 18s\n",
      "Best val Acc: 0.918871\n"
     ]
    }
   ],
   "source": [
    "# train and validate\n",
    "googlenet,hist_3 = train_model(googlenet,dataloaders_dict_3, criterion_3,optimizer_3,num_epochs=num_epochs, is_inception=False)"
   ]
  },
  {
   "cell_type": "code",
   "execution_count": 126,
   "metadata": {},
   "outputs": [
    {
     "name": "stdout",
     "output_type": "stream",
     "text": [
      "Got 302 / 400 with accuracy 75.50\n"
     ]
    }
   ],
   "source": [
    "test_accuracy(testLoader, googlenet)"
   ]
  },
  {
   "cell_type": "code",
   "execution_count": null,
   "metadata": {},
   "outputs": [],
   "source": []
  }
 ],
 "metadata": {
  "kernelspec": {
   "display_name": "venv",
   "language": "python",
   "name": "venv"
  },
  "language_info": {
   "codemirror_mode": {
    "name": "ipython",
    "version": 3
   },
   "file_extension": ".py",
   "mimetype": "text/x-python",
   "name": "python",
   "nbconvert_exporter": "python",
   "pygments_lexer": "ipython3",
   "version": "3.7.7"
  }
 },
 "nbformat": 4,
 "nbformat_minor": 4
}
